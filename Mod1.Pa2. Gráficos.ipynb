{
 "cells": [
  {
   "cell_type": "markdown",
   "metadata": {},
   "source": [
    "<img src=\"logo.png\">"
   ]
  },
  {
   "cell_type": "markdown",
   "metadata": {},
   "source": [
    "# Gráficos\n",
    "\n",
    "En esta sección daremos un **formulario** de los principales gráficos que se utilizan en Análisis de datos."
   ]
  },
  {
   "cell_type": "markdown",
   "metadata": {},
   "source": [
    "## Histogramas\n",
    "\n",
    "``hist(tabla$col)`` es un histograma básico\n",
    "\n",
    "``hist(tabla$col,breaks=10)`` es un histograma de 10 barras (aproximadamente); ``breaks`` también puede ser un vector.\n",
    "\n",
    "``hist(tabla$col,breaks=10,col=\"blue\")`` controla el color de todas las barras.\n",
    "\n",
    "``hist(tabla$col,breaks=10,col=rainbow,xlab=\"nombre1\",ylab=\"nombre2\",main=\"titulo\")`` da color diferente a cada barra y controla las etiquetas de los ejes X y Y. El parámetro ``main`` es el título que se le quiere dar al gráfico.\n",
    "\n",
    "### ggplot\n",
    "\n",
    "``library(ggplot2)\n",
    "ggplot(tabla) + \n",
    "geom_histogram(mapping=aes(x=columna),bins=10,fill=rainbow(10),col=\"black\") +\n",
    "labs(title=\"Titulo\",x=\"nombre1\",y=\"nombre2\") + \n",
    "theme_classic() +\n",
    "theme(plot.title = element_text(hjust=0.5))`` #Con esta línea centramos el título"
   ]
  },
  {
   "cell_type": "markdown",
   "metadata": {},
   "source": [
    "# Scatterplot (diagrama de dispersión)\n",
    "\n",
    "``plot(tabla$col1~tabla$col2,xlab=\"nombre1\",ylab=\"nombre2\",main=\"Título\")``\n",
    "\n",
    "``pairs(tabla,pch=19,,main=\"Título\")`` para hacer matrices de dispersión.\n",
    "\n",
    "## ggplot\n",
    "\n",
    "``ggplot(data=tabla) +\n",
    "geom_point(aes(x=col1,y=col2)) +\n",
    "labs(title=\"Título\",x=\"nombre1\",y=\"nombre2\") +\n",
    "theme_classic() +\n",
    "theme(plot.title = element_text(hjust=0.5))``\n",
    "\n",
    "## ggally\n",
    "\n",
    "``library(GGally)\n",
    "ggpairs(tabla,columns=a,title=\"título\") +  \n",
    "theme_bw() +\n",
    "theme(plot.title = element_text(hjust=0.5))`` donde ``a`` es el vector que indica qué columnas queremos graficar."
   ]
  },
  {
   "cell_type": "markdown",
   "metadata": {},
   "source": [
    "# Matrices de correlación\n",
    "\n",
    "Las variables deben ser numéricas.\n",
    "\n",
    "``tabla_correlaciones <- cor(tabla)\n",
    "correlaciones_redondeada <- round(tabla_correlaciones,digits=2)\n",
    "library(corrplot)\n",
    "corrplot(correlaciones_redondeada)``\n",
    "\n",
    "``\n",
    "library(ggcorrplot)\n",
    "ggcorrplot(correlaciones_redondeada,\n",
    "           lab=\"True\",\n",
    "           type=\"full\",\n",
    "           outline.color = \"white\",\n",
    "           colors = c(\"#6D9EC1\", \"white\", \"#E46726\"))+\n",
    "  ggtitle(\"Título\")+\n",
    "  theme_minimal()``\n",
    "\n"
   ]
  },
  {
   "cell_type": "markdown",
   "metadata": {},
   "source": [
    "# Gráficos de burbujas\n",
    "\n",
    "``library(ggplot2)\n",
    "ggplot(tabla) +\n",
    "  geom_point(mapping=aes(x=col1,y=col2,col=col3),size=tabla$col4,alpha=0.5)\n",
    "``"
   ]
  },
  {
   "cell_type": "markdown",
   "metadata": {},
   "source": [
    "# Diagrama de caja y bigotes\n",
    "\n",
    "Para ver una explicación completa de qué son y cómo se hacen a mano este tipo de diagramas, ver [aquí](https://github.com/scidatmath2020/Python-y-R-en-Estadistica-Multivariante/blob/main/Mod1_Espacios_Multivariantes/C02.1%20Visualizaci%C3%B3n%20de%20datos%20(boxplots).ipynb)"
   ]
  }
 ],
 "metadata": {
  "kernelspec": {
   "display_name": "R",
   "language": "R",
   "name": "ir"
  },
  "language_info": {
   "codemirror_mode": "r",
   "file_extension": ".r",
   "mimetype": "text/x-r-source",
   "name": "R",
   "pygments_lexer": "r",
   "version": "3.6.1"
  }
 },
 "nbformat": 4,
 "nbformat_minor": 4
}
